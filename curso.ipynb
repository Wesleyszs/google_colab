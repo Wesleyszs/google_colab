{
  "nbformat": 4,
  "nbformat_minor": 0,
  "metadata": {
    "colab": {
      "provenance": [],
      "collapsed_sections": [
        "GRCwBn_0mR4c"
      ],
      "authorship_tag": "ABX9TyO9OctnlRH7C1ONGDa6MlLY",
      "include_colab_link": true
    },
    "kernelspec": {
      "name": "python3",
      "display_name": "Python 3"
    },
    "language_info": {
      "name": "python"
    }
  },
  "cells": [
    {
      "cell_type": "markdown",
      "metadata": {
        "id": "view-in-github",
        "colab_type": "text"
      },
      "source": [
        "<a href=\"https://colab.research.google.com/github/Wesleyszs/google_colab/blob/main/curso.ipynb\" target=\"_parent\"><img src=\"https://colab.research.google.com/assets/colab-badge.svg\" alt=\"Open In Colab\"/></a>"
      ]
    },
    {
      "cell_type": "code",
      "execution_count": null,
      "metadata": {
        "id": "Lm8Fl9nqaq7p"
      },
      "outputs": [],
      "source": []
    },
    {
      "cell_type": "markdown",
      "source": [
        "# fundamentos python"
      ],
      "metadata": {
        "id": "aK4hnz2Javwt"
      }
    },
    {
      "cell_type": "code",
      "source": [],
      "metadata": {
        "id": "sJP87Ua_a6y4"
      },
      "execution_count": null,
      "outputs": []
    },
    {
      "cell_type": "markdown",
      "source": [
        "**como mostrar algo em tela?**"
      ],
      "metadata": {
        "id": "xs_5wjt1a-pO"
      }
    },
    {
      "cell_type": "code",
      "source": [
        "print('hello world');#comando print\n",
        "'''\n",
        "em python não é necessario usar ponto e virgula ao final de cada código com é ultilizado em outras linguagens , mas recomendo que use ponto e virgula pra trabalhar sua mente para prxm linguagem\n",
        "comentarios #hashtag é a forma correta de comentar   e o sinal de 3 asteriscos é um comentario feito que o sistema vai ler , mais não vai afetar em nada no programa , apenas mais disco na memoria\n",
        "'''"
      ],
      "metadata": {
        "id": "y9XLAffTbTvF"
      },
      "execution_count": null,
      "outputs": []
    },
    {
      "cell_type": "markdown",
      "source": [
        "### <h1 > operações mátematicas <h1>"
      ],
      "metadata": {
        "id": "Pif42ngvbh4-"
      }
    },
    {
      "cell_type": "code",
      "source": [
        "2 + 5 #soma\n"
      ],
      "metadata": {
        "id": "SmxZytDzbnHd",
        "colab": {
          "base_uri": "https://localhost:8080/"
        },
        "outputId": "d909f1d0-ecb3-4837-a8b5-6ef4ea25a098"
      },
      "execution_count": null,
      "outputs": [
        {
          "output_type": "execute_result",
          "data": {
            "text/plain": [
              "7"
            ]
          },
          "metadata": {},
          "execution_count": 1
        }
      ]
    },
    {
      "cell_type": "code",
      "source": [
        "2 * 5 #multiplicação\n"
      ],
      "metadata": {
        "id": "LJZbeIeccQl2"
      },
      "execution_count": null,
      "outputs": []
    },
    {
      "cell_type": "code",
      "source": [
        "\n",
        "5 / 2 #divisão exata\n"
      ],
      "metadata": {
        "id": "J5fruuWXcScF"
      },
      "execution_count": null,
      "outputs": []
    },
    {
      "cell_type": "code",
      "source": [
        "5 // 2 #divisão inteira"
      ],
      "metadata": {
        "id": "1jbL7omrcWAl"
      },
      "execution_count": null,
      "outputs": []
    },
    {
      "cell_type": "code",
      "source": [
        "5 - 2 #subtração"
      ],
      "metadata": {
        "id": "RywvaniTcZHl"
      },
      "execution_count": null,
      "outputs": []
    },
    {
      "cell_type": "code",
      "source": [
        "5 % 2 #resto da divição"
      ],
      "metadata": {
        "id": "2jMj0f9rcbwN"
      },
      "execution_count": null,
      "outputs": []
    },
    {
      "cell_type": "code",
      "source": [
        "2**3 #elevado"
      ],
      "metadata": {
        "id": "0QsSPnYhc_AF"
      },
      "execution_count": null,
      "outputs": []
    },
    {
      "cell_type": "markdown",
      "source": [
        "###**variavel**\n",
        "\n",
        "---\n",
        "variável em uma linguagem de programação envolve atribuir um nome a um local na memória do computador, onde um valor específico pode ser armazenado e recuperado pelo programa durante sua execução.\n"
      ],
      "metadata": {
        "id": "JfAGU_7Ndh7s"
      }
    },
    {
      "cell_type": "code",
      "source": [
        "soma = 3 + 3\n",
        "print(soma)"
      ],
      "metadata": {
        "id": "v0KoPbvjeKFt"
      },
      "execution_count": null,
      "outputs": []
    },
    {
      "cell_type": "code",
      "source": [
        "multi = 2*5\n",
        "print(multi)"
      ],
      "metadata": {
        "id": "fZQA_abQeQ-l"
      },
      "execution_count": null,
      "outputs": []
    },
    {
      "cell_type": "markdown",
      "source": [
        "###<h1>input<h1>\n",
        "\n",
        "\n",
        "\n",
        "---\n",
        "\n",
        "Um \"input\" em programação geralmente se refere a dados fornecidos a um programa ou função. Uma definição curta e precisa seria\n",
        "\n"
      ],
      "metadata": {
        "id": "hDLccKo1eclD"
      }
    },
    {
      "cell_type": "code",
      "source": [
        "soma = int(input('digite um numero inteiro: '));\n",
        "soma2 = int(input('digite outro numero inteiro: '));\n",
        "\n",
        "total = soma + soma2\n",
        "\n",
        "print('o resultado da soma entre os numeros digitados é ',total  );\n",
        "\n",
        "'''\n",
        "no exercicio resolvido , foram criado 3 variaveis duas pra somar e 1 para o total  , o comando input solicita dados do usuario\n",
        "e armazena nas variaveis soma e soma2 , logo apos a variavel total soma os 2 numeros digitados e o print mostra o resultado em tela\n",
        "'''"
      ],
      "metadata": {
        "id": "JWN3iThweiM-"
      },
      "execution_count": null,
      "outputs": []
    },
    {
      "cell_type": "markdown",
      "source": [
        "<h1 > tipos de dados</h1>\n",
        "\n",
        "\n",
        "---\n",
        "\n",
        "\n",
        "\n",
        "1.   int  - numeros inteiro (1 , 2 , 3 , 10 , 20 , 100)\n",
        "2.   float - numeros de ponto flutuante (1.5 , 3.4 , 5.8 ) numeros quebrados\n",
        "3.   bool -  Representam valores verdadeiro ou falso. Exemplo: True, False.\n",
        "4.   str - Sequências de caracteres, como texto. Exemplo: \"Olá, mundo!\"\n",
        "5.   list - Coleções ordenadas de itens, que podem ser de diferentes tipos de dados. Exemplo: [1, 2, 3], ['a', 'b', 'c'], [1, 'two', 3.0].\n",
        "6.   tuple - Sequências imutáveis de itens, semelhantes às listas, mas não podem ser modificadas após a criação. Exemplo: (1, 2, 3), ('a', 'b', 'c').\n",
        "7.   dict- Coleções de pares chave-valor, onde cada chave única mapeia para um valor. Exemplo: {'nome': 'João', 'idade': 30, 'cidade': 'São Paulo'}.\n",
        "8.   set- Coleções não ordenadas de itens únicos. Exemplo: {1, 2, 3}, {'a', 'b', 'c'}.\n",
        "\n",
        "\n",
        "---\n",
        "<h2>\n",
        "Estes são os tipos de dados básicos em Python. Além disso, Python é uma linguagem de tipagem dinâmica, o que significa que você não precisa declarar explicitamente o tipo de uma variável; o tipo é inferido a partir do valor que você atribui a ela. Isso torna Python flexível e fácil de usar em muitos contextos diferentes.\n",
        "\n",
        "---\n",
        "\n",
        "\n",
        "<h2>\n"
      ],
      "metadata": {
        "id": "OwZWEG0bg_Tb"
      }
    },
    {
      "cell_type": "markdown",
      "source": [
        "**EXERCICIOS 1**\n",
        "\n",
        "\n",
        "1.   obtenha do usuario 5 numeros\n",
        "2.   salve esses 5 numeros em 5 váriaveis\n",
        "3.   multiplique esses 5 numeros\n",
        "\n",
        "\n"
      ],
      "metadata": {
        "id": "J4TwPpw9lrll"
      }
    },
    {
      "cell_type": "code",
      "source": [
        "#faça seu código aqui"
      ],
      "metadata": {
        "id": "LO32mtL1fy6d"
      },
      "execution_count": null,
      "outputs": []
    },
    {
      "cell_type": "markdown",
      "source": [
        "### Resolução"
      ],
      "metadata": {
        "id": "GRCwBn_0mR4c"
      }
    },
    {
      "cell_type": "code",
      "source": [
        "num_1 = int(input('digite o primeiro numero inteiro:'));\n",
        "num_2 = int(input('digite o segundo numero inteiro:'));\n",
        "num_3 = int(input('digite o terceiro numero  inteiro:'));\n",
        "num_4 = int(input('digite o quarto numero inteiro:'));\n",
        "num_5 = int(input('digite o quinto numero inteiro:'));\n",
        "\n",
        "valor = num_1 * num_2 * num_3 * num_4 * num_5 ;\n",
        "\n",
        "print('a multiplicação dos 5 numeros é ' , valor );\n"
      ],
      "metadata": {
        "id": "kQCeYfkhmU2L"
      },
      "execution_count": null,
      "outputs": []
    },
    {
      "cell_type": "markdown",
      "source": [
        "*o exercicio pode ser resolvido como float se for digitar numeros quebrados*"
      ],
      "metadata": {
        "id": "6mavdbrLp0f0"
      }
    },
    {
      "cell_type": "markdown",
      "source": [
        "###<h1> Estrutura de dados <h1>"
      ],
      "metadata": {
        "id": "2DxPl7TyqZRD"
      }
    },
    {
      "cell_type": "markdown",
      "source": [
        "python possui 5 estrutura de dados:\n",
        "\n",
        "1.   Básico (str , float , int)\n",
        "2.   Listas ( em  outras linguagens : Array )\n",
        "3.   tuplas\n",
        "4.   Dicionários( em outras linguagens )\n",
        "\n"
      ],
      "metadata": {
        "id": "qekmwdM1qmQb"
      }
    },
    {
      "cell_type": "markdown",
      "source": [
        "<h2> Listas em python<h2>"
      ],
      "metadata": {
        "id": "FQ4aRCtprOxH"
      }
    },
    {
      "cell_type": "code",
      "source": [
        "\n",
        "\n",
        "lista_convidados = ['wesley' , 'jorge ' , ' Kelvin' , 'jardel ' , 'guilherme', ' lucas ', ];\n",
        "#é possivel criar listas vazias\n",
        "novas_pessoas = []\n",
        "print(lista_convidadas)"
      ],
      "metadata": {
        "colab": {
          "base_uri": "https://localhost:8080/"
        },
        "id": "STicCZkhqjw8",
        "outputId": "268518a6-ef20-405b-e8a2-5bfc2d389725"
      },
      "execution_count": null,
      "outputs": [
        {
          "output_type": "stream",
          "name": "stdout",
          "text": [
            "['wesley', 'jorge ', ' Kelvin', 'jardel ', 'guilherme', ' lucas ']\n"
          ]
        }
      ]
    },
    {
      "cell_type": "markdown",
      "source": [
        "<h3>como adicionar um item a uma lista <h3>"
      ],
      "metadata": {
        "id": "7MEfIEUgumEc"
      }
    },
    {
      "cell_type": "code",
      "source": [
        "vendedores = [];\n",
        "\n",
        "novo_vendedor = 'jorge';\n",
        "\n",
        "vendedores.append(novo_vendedor);\n",
        "vendedores.append('kelvin' ', ' 'wesley');\n",
        "vendedores.append('guilherme')\n",
        "\n",
        "print(vendedores)"
      ],
      "metadata": {
        "colab": {
          "base_uri": "https://localhost:8080/"
        },
        "id": "YGp2FcNCu5LX",
        "outputId": "287cd668-e09f-4f20-ae04-e1a4c1fde589"
      },
      "execution_count": null,
      "outputs": [
        {
          "output_type": "stream",
          "name": "stdout",
          "text": [
            "['jorge', 'kelvin, wesley', 'guilherme']\n"
          ]
        }
      ]
    },
    {
      "cell_type": "markdown",
      "source": [
        "**.append** é a forma correta de você adicionar uma pessoa na sua lista\n",
        "\n",
        "no exemplo acima , mostra que da pra adicionar de 2 formas\n",
        "\n",
        "1.   .append(novo_vendedor) variavel criada para novos vendedores\n",
        "2.   .append('nome do vendedor ') dessa forma voce pode adicionar sem precisar de variavel , apenas digitando o nome do vendedor\n"
      ],
      "metadata": {
        "id": "lCwOETe9v4Aj"
      }
    },
    {
      "cell_type": "markdown",
      "source": [
        "\n",
        "<h3>Listas com Input<h3>"
      ],
      "metadata": {
        "id": "w9S91KgpyM99"
      }
    },
    {
      "cell_type": "code",
      "source": [
        "novo_vendedor = input('informe o nome do vendedor');\n",
        "vendedores.append(novo_vendedor);\n",
        "\n",
        "print(vendedores)"
      ],
      "metadata": {
        "colab": {
          "base_uri": "https://localhost:8080/"
        },
        "id": "FfPMO2p7yKVM",
        "outputId": "4ffb8ce4-ce56-40bb-f925-ce209fc4eb2c"
      },
      "execution_count": null,
      "outputs": [
        {
          "output_type": "stream",
          "name": "stdout",
          "text": [
            "informe o nome do vendedorlucas\n",
            "['jorge', 'kelvin, wesley', 'guilherme', 'lucas']\n"
          ]
        }
      ]
    },
    {
      "cell_type": "markdown",
      "source": [
        "<h3> remover itens de uma lista <h3>"
      ],
      "metadata": {
        "id": "meDHsTOI5tWu"
      }
    },
    {
      "cell_type": "code",
      "source": [
        "novos_vendedores = ['jorge', 'kelvin, wesley', 'guilherme', 'lucas'];\n",
        "print(novos_vendedores);\n",
        "novos_vendedores = ['jorge', 'kelvin, wesley', 'guilherme', 'lucas'];\n",
        "novos_vendedores.remove('lucas');\n",
        "print(novos_vendedores);"
      ],
      "metadata": {
        "id": "iP2RvTgi54v9"
      },
      "execution_count": null,
      "outputs": []
    },
    {
      "cell_type": "markdown",
      "source": [
        "para remover só utilizar o **.remove ('nome')**"
      ],
      "metadata": {
        "id": "KfIKNfil7nAa"
      }
    },
    {
      "cell_type": "markdown",
      "source": [
        "<h2>Como ver o tamanho da lista<h2>"
      ],
      "metadata": {
        "id": "u6svs-fQ7-vD"
      }
    },
    {
      "cell_type": "code",
      "source": [
        "nfs = ('231234' , '454545' , '523512' , '400289', '228200', '858486');\n",
        "quantidade_nfs =len(nfs)\n",
        "print(quantidade_nfs)"
      ],
      "metadata": {
        "id": "QlCZHcub8KbA"
      },
      "execution_count": null,
      "outputs": []
    },
    {
      "cell_type": "markdown",
      "source": [
        "<p>Portanto, a função **len()** é uma ferramenta útil para determinar o número de itens em uma coleção ou o comprimento de uma sequência de caracteres em Python.<p>"
      ],
      "metadata": {
        "id": "mfkWlsSO8zmE"
      }
    },
    {
      "cell_type": "markdown",
      "source": [
        "<h2>como obter a posição de um item na lista<h2>"
      ],
      "metadata": {
        "id": "_h5dL2R_9UAy"
      }
    },
    {
      "cell_type": "code",
      "source": [
        "clientes =['casas bahia ' , 'pão de açucar', 'magalu', 'zenir' , 'americanas '];\n",
        "#              0                  1               2         3            4\n",
        "#             -5                  -4             -3        -2           -1\n",
        "print(clientes);\n",
        "\n",
        "primeiro_cliente = clientes[1];\n",
        "print(primeiro_cliente);\n",
        "\n",
        "cliente_procurado = 'pão de açucar';\n",
        "posicao = clientes.index(cliente_procurado);\n",
        "print(posicao)"
      ],
      "metadata": {
        "colab": {
          "base_uri": "https://localhost:8080/"
        },
        "id": "HWjJHcO-9woq",
        "outputId": "e16ca74f-d8cc-4622-c8d8-88b2aabd6f7e"
      },
      "execution_count": null,
      "outputs": [
        {
          "output_type": "stream",
          "name": "stdout",
          "text": [
            "['casas bahia ', 'pão de açucar', 'magalu', 'zenir', 'americanas ']\n",
            "pão de açucar\n",
            "1\n"
          ]
        }
      ]
    },
    {
      "cell_type": "markdown",
      "source": [
        "<p>voce pode descobrir a posição de uma lista de 2 formas <p>\n",
        "\n",
        "```\n",
        "1. `primeiro_cliente = clientes[-3];`\n",
        " cliente_procurado = 'pão de açucar';\n",
        "posicao = clientes.index(cliente_procurado);\n",
        "print(posicao)\n",
        "\n",
        "\n",
        "2. cliente_procurado = 'pão de açucar';\n",
        "posicao = clientes.index(cliente_procurado);\n",
        "print(posicao)\n",
        "```\n",
        "\n"
      ],
      "metadata": {
        "id": "UHsX2g5rAVi7"
      }
    },
    {
      "cell_type": "markdown",
      "source": [
        "<h1>obter dados de dentro de uma lista<h1>"
      ],
      "metadata": {
        "id": "ounEmiGcCwJK"
      }
    },
    {
      "cell_type": "code",
      "source": [
        "carros = ['gol' , 'palio' , 'commander'  , 'hb20' , 'fiat' , 'BMW'];\n",
        "# tamanho_da_lista = len(carros);\n",
        "# print(tamanho_da_lista);\n",
        "#jeito complicado\n",
        "index_ultimo_item = tamanho_da_lista - 1\n",
        "ultimo_item = carros[index_ultimo_item];\n",
        "print(ultimo_item);\n",
        "\n",
        "#jeito simples\n",
        "\n",
        "ultimo_item_simples = carros[-1]\n",
        "print(ultimo_item_simples);\n",
        "\n",
        "#obter sublista a partir de lista\n",
        "\n",
        "tres_ultimos_Carros =carros[4 :]; #dois pontos na frente é os 3 primeiros da lista , dois pontos atras do 3: é os 3 ultimos\n",
        "print(tres_ultimos_Carros);"
      ],
      "metadata": {
        "id": "D2-LydP3C1QJ"
      },
      "execution_count": null,
      "outputs": []
    },
    {
      "cell_type": "markdown",
      "source": [
        "**EXERCICIO 2**\n",
        "\n",
        "1.   Crie uma lista de vendedores\n",
        "2.   gerar um input que permita o usuario informa o vendedor que ele quer pesquisar\n",
        "3. retorne para o usuario a posição do vendedor na lista\n",
        "\n"
      ],
      "metadata": {
        "id": "JepJahO5G6Ma"
      }
    },
    {
      "cell_type": "code",
      "source": [
        "#resolva aqui"
      ],
      "metadata": {
        "id": "2mgItJSwHTgd"
      },
      "execution_count": null,
      "outputs": []
    },
    {
      "cell_type": "markdown",
      "source": [
        "###**RESOLUÇÃO**"
      ],
      "metadata": {
        "id": "YqfAxxKFHWNh"
      }
    },
    {
      "cell_type": "code",
      "source": [
        "vendedores=[' ', 'wesley' , 'jorge', 'kelvin', 'jardel', 'guilherme']; #Crie uma lista de vendedores\n",
        "vendedor_a_procurar = str(input('digite o nome do vendedor que você prefere '));#gerar um input que permita o usuario informa o vendedor que ele quer pesquisar\n",
        "\n",
        "posicao = vendedores.index(vendedor_a_procurar);#retorne para o usuario a posição do vendedor na lista\n",
        "msg_resposta = 'posição atual do vendedor ' + vendedor_a_procurar + ' é ' + str(posicao)\n",
        "\n",
        "\n",
        "\n",
        "print(msg_resposta);"
      ],
      "metadata": {
        "id": "jpM2ex_BHcFS"
      },
      "execution_count": null,
      "outputs": []
    },
    {
      "cell_type": "markdown",
      "source": [
        "###<h1>tuplas<h1>"
      ],
      "metadata": {
        "id": "9mOFiPBZnIlU"
      }
    },
    {
      "cell_type": "code",
      "source": [
        "numeros = (1 , 2 , 3, 4 , 5 , 6 ,7 ,8 ,9);\n",
        "# numero.remove(2);\n",
        "print(numeros);"
      ],
      "metadata": {
        "id": "jmSdSANbnX-C"
      },
      "execution_count": null,
      "outputs": []
    },
    {
      "cell_type": "markdown",
      "source": [
        "<p>diferente de listas , as tuplas não podem ser removidas com uma função\n",
        "\n",
        "caso você precise remover , tem que ir no codigo e alterar </p>"
      ],
      "metadata": {
        "id": "-yes5c9-oDGY"
      }
    },
    {
      "cell_type": "markdown",
      "source": [
        "###<h1>Dicionários</h1>\n",
        "\n",
        "---\n",
        "\n",
        "dicionario em python é uma estrutura de dados que mapeia chaves a valores ,\n",
        "permitindo o acesso rápido aos valores atraves das chaves."
      ],
      "metadata": {
        "id": "Ab1MoHimok3i"
      }
    },
    {
      "cell_type": "markdown",
      "source": [
        "<h2>objetos"
      ],
      "metadata": {
        "id": "5OgUGLreo7OG"
      }
    },
    {
      "cell_type": "code",
      "source": [
        "nfs = {'numero_nf':'31012000',\n",
        "       'data_emissao':'20/02/2022'\n",
        "};\n",
        "\n",
        "nfs_2 = {\n",
        "  'numero_nf':'40028922' ,\n",
        "  'data_emissao':'30/05/2023'\n",
        "}\n",
        "\n",
        "notas_fiscais = [nfs , nfs_2];\n",
        "\n",
        "print(notas_fiscais);\n",
        "\n"
      ],
      "metadata": {
        "colab": {
          "base_uri": "https://localhost:8080/"
        },
        "id": "eagXPwmTobZN",
        "outputId": "8dc2362d-455d-4e8f-9f5c-cdd954c25701"
      },
      "execution_count": null,
      "outputs": [
        {
          "output_type": "stream",
          "name": "stdout",
          "text": [
            "[{'numero_nf': '31012000', 'data_emissao': '20/02/2022'}, {'numero_nf': '40028922', 'data_emissao': '30/05/2023'}]\n"
          ]
        }
      ]
    },
    {
      "cell_type": "markdown",
      "source": [
        "<p> da pra colocar uma lista dentro de um dicionario , como mostra no exemplo acima<p>"
      ],
      "metadata": {
        "id": "RLZYMQLTr8Ho"
      }
    },
    {
      "cell_type": "markdown",
      "source": [
        "<h2>adicionando dicionarios a listas"
      ],
      "metadata": {
        "id": "klfsMRIJtmlk"
      }
    },
    {
      "cell_type": "code",
      "source": [
        "nfs = [\n",
        "    {\n",
        "        'numero_nf':'31012000',\n",
        "       'data_emissao':'20/02/2022',\n",
        "       'emissor':'empresa alfa'\n",
        "    },\n",
        "\n",
        "    {\n",
        "  'numero_nf':'40028922' ,\n",
        "  'data_emissao':'30/05/2023',\n",
        "  'empresa':'beta'\n",
        "}\n",
        "]\n",
        "nfs.append(\n",
        "    {\n",
        "  'numero_nf':'40028922' ,\n",
        "  'data_emissao':'28/05/2023',\n",
        "  'empresa':'gama'\n",
        "    }\n",
        ")\n",
        "\n",
        "print(nfs)\n",
        "\n"
      ],
      "metadata": {
        "id": "dK9_B5i3tvaF"
      },
      "execution_count": null,
      "outputs": []
    },
    {
      "cell_type": "markdown",
      "source": [
        "**exercicio**\n",
        "\n",
        "1.   criar um input que permita ao usuario incerir um novo funcionario em uma lista\n",
        "2.  o novo funcionario terá 'nome', 'idade', 'profissão'\n",
        "3. mostre a lista atualizada em tela\n",
        "\n"
      ],
      "metadata": {
        "id": "qim48sCGyCIM"
      }
    },
    {
      "cell_type": "code",
      "source": [
        "veteranos = {\n",
        "    'kelvin': [ 'idade 25', 'marketing'],\n",
        "    'wesley': ['idade 24', 'desenvolvedor de software']\n",
        "}\n",
        "print(veteranos)\n",
        "\n",
        "nome = str(input('digite o nome do funcionario novato '))\n",
        "idade = int(input('digite a idade do funcionario novato '))\n",
        "profissao = str(input('digite a profissão do funcionario novato '))\n",
        "\n",
        "novo_funcionario = [ idade , profissao]\n",
        "veteranos[nome] = novo_funcionario\n",
        "\n",
        "\n",
        "print(veteranos)"
      ],
      "metadata": {
        "id": "xNUS-g-oyuzo"
      },
      "execution_count": null,
      "outputs": []
    },
    {
      "cell_type": "code",
      "source": [
        "print(veteranos)"
      ],
      "metadata": {
        "id": "cdffZpuE7ZRk"
      },
      "execution_count": null,
      "outputs": []
    },
    {
      "cell_type": "code",
      "source": [
        "import math\n",
        "\n",
        "numero = 15;\n",
        "raiz_quad = math.sqrt(numero);\n",
        "print(raiz_quad);"
      ],
      "metadata": {
        "id": "YLu5kY7tuTSy"
      },
      "execution_count": null,
      "outputs": []
    },
    {
      "cell_type": "markdown",
      "source": [
        "<h1> condicionais\n",
        "\n",
        "---\n",
        "\n",
        "\n",
        "<p> condicionais são formas que temos de modificar o fluxo do código"
      ],
      "metadata": {
        "id": "eWkX4ApJGvwh"
      }
    },
    {
      "cell_type": "code",
      "source": [
        "nota1 = float(input('qual a primeira nota do aluno : '));\n",
        "nota2 = float(input('qual a segunda nota do aluno : '));\n",
        "\n",
        "media = (nota1 + nota2)/2;\n",
        "\n",
        "if media >= 6: # se a média for maior (>) ou igual(=) a o 6 então\n",
        "    print('o aluno esta aprovado ', media ); #<----- me retorne isso\n",
        "else :  #se não\n",
        "    print(' o aluno esta reprovado' , media ); #<-------- me retorne isso\n",
        "\n",
        "\n",
        "\n"
      ],
      "metadata": {
        "id": "IgTr_hpKx6yD"
      },
      "execution_count": null,
      "outputs": []
    },
    {
      "cell_type": "markdown",
      "source": [
        "if condição1:\n",
        "    # Bloco de código a ser executado se a condição1 for verdadeira\n",
        "elif condição2:\n",
        "    # Bloco de código a ser executado se a condição2 for verdadeira\n",
        "else:\n",
        "    # Bloco de código a ser executado se nenhuma das condições anteriores for verdadeira\n",
        "\n"
      ],
      "metadata": {
        "id": "tvtGfdIJJBHu"
      }
    },
    {
      "cell_type": "markdown",
      "source": [
        "###<H2>EXERCICIO\n",
        "\n",
        "---\n",
        "1. criar uma lista de nomes\n",
        "2. criar um input para o usuario se o nome esta na lista ou não\n",
        "3. responde se esta ou não na lista\n",
        "\n"
      ],
      "metadata": {
        "id": "ZiXP1pqsSRHy"
      }
    },
    {
      "cell_type": "code",
      "source": [
        "nomes = ['wesley', 'kelvin', 'jorge' , 'jardel' , 'guilherme'];\n",
        "\n",
        "pesquisa = str(input('qual a pessoa que você procura '));\n",
        "\n",
        "if pesquisa in nomes: #se a pesquisa digitada existe na lista nomes entao me retorne\n",
        "    print('o funcionario %s esta na lista '% pesquisa); #esse print\n",
        "else: #se não estiver na lista me retorne\n",
        "    print('o funcionario %s não esta na lista ' % pesquisa); #esse print\n",
        "\n",
        "\n",
        "\n"
      ],
      "metadata": {
        "id": "_5X2Q2oiTLlv"
      },
      "execution_count": null,
      "outputs": []
    },
    {
      "cell_type": "markdown",
      "source": [
        "<H2>VERIFICANDO SE O VALOR EXISTE EM LISTA"
      ],
      "metadata": {
        "id": "vDF3rhMdk--L"
      }
    },
    {
      "cell_type": "code",
      "source": [
        "from logging import exception\n",
        "nomes = ['wesley', 'kelvin', 'jorge' , 'jardel' , 'guilherme'];\n",
        "nome_pesquisado = input('me informe o nome e te informatrei se existe ou nao na lista ');\n",
        "try:\n",
        "  index_nome = nomes.index(nome_pesquisado);\n",
        "  print('o nome existe');\n",
        "except Exception:\n",
        "  print('deu erro , provavelmente pq o nome nao existe ');"
      ],
      "metadata": {
        "id": "BpziGpaXiUyi"
      },
      "execution_count": null,
      "outputs": []
    },
    {
      "cell_type": "markdown",
      "source": [
        " <font color='pink'> **try**:</font>\n",
        "\n",
        "\n",
        "- O bloco try é usado para envolver o código que pode gerar exceções.\n",
        "- Quando o interpretador Python encontra um bloco try, ele tenta executar o código dentro dele.\n",
        "- Se uma exceção ocorrer durante a execução do código dentro do bloco try, o controle do programa é transferido para o bloco except.\n",
        "\n",
        "\n",
        "---\n",
        "\n",
        "<font color='pink'> **except**:</font>\n",
        "- O bloco except é usado para lidar com exceções específicas que podem ocorrer dentro do bloco try.\n",
        "- Você pode ter vários blocos except para lidar com diferentes tipos de exceções.\n",
        "- Se uma exceção ocorrer dentro do bloco try, o interpretador Python procura um bloco except correspondente. Se encontrar um, executa o código dentro desse bloco.\n",
        "- Se não houver um bloco except correspondente para a exceção que ocorreu, o programa será encerrado e uma mensagem de erro será exibida.\n"
      ],
      "metadata": {
        "id": "YI-yvVVXm_5D"
      }
    },
    {
      "cell_type": "markdown",
      "source": [
        "<h1> multiplas condições<h1>"
      ],
      "metadata": {
        "id": "8lDDk1zWoUXX"
      }
    },
    {
      "cell_type": "code",
      "source": [
        "nfs = ('231234' , '454545' , '523512' , '400289', '228200', '858486');\n",
        "\n",
        "posicao = nfs.index( '231234');\n",
        "\n",
        "if posicao ==0:\n",
        "  print('a posição é a primeira ');\n",
        "elif posicao ==1:\n",
        "  print('a posição é a segunda ');\n",
        "elif posicao ==2:\n",
        "  print('a posição é a terceira ');\n",
        "elif posicao ==3:\n",
        "  print('a posição é a quarta ');\n",
        "elif posicao ==4:\n",
        "  print('a posição é a quinta ');\n",
        "elif posicao ==5:\n",
        "  print('a posição é a sexta ');\n",
        "else:\n",
        "  print(\"nada deu certo \");\n",
        "\n",
        "\n"
      ],
      "metadata": {
        "id": "1YmSRI3IocWr"
      },
      "execution_count": null,
      "outputs": []
    },
    {
      "cell_type": "code",
      "source": [
        "idade = int(input('Digite a sua idade: '));\n",
        "\n",
        "if idade <= 10:\n",
        "  print('Você é uma criança');\n",
        "elif idade <= 18:\n",
        "  print('Você é um adolescente / jovem');\n",
        "elif idade < 60:\n",
        "  print('Você é um jovem adulto / adulto');\n",
        "else:\n",
        "  print('Você é idoso');"
      ],
      "metadata": {
        "colab": {
          "base_uri": "https://localhost:8080/"
        },
        "id": "ItPHKSLu8_Z2",
        "outputId": "de0619fc-14d0-481c-e951-1dd71b23cf8c"
      },
      "execution_count": null,
      "outputs": [
        {
          "output_type": "stream",
          "name": "stdout",
          "text": [
            "Digite a sua idade: 60\n",
            "Você é idoso\n"
          ]
        }
      ]
    },
    {
      "cell_type": "markdown",
      "source": [
        "###<font color= '#BC425D'>**LOOPS**<font>\n",
        "\n",
        "---\n",
        "\n",
        "<p>Em programação, um loop é uma estrutura que permite executar repetidamente um bloco de código várias vezes. Os loops são fundamentais para a automação de tarefas repetitivas e para iterar sobre coleções de dados."
      ],
      "metadata": {
        "id": "5ChChfZrxBak"
      }
    },
    {
      "cell_type": "markdown",
      "source": [
        "<h2><font color= '1CC3E2'>while<font>"
      ],
      "metadata": {
        "id": "HnF9Oxif0KSY"
      }
    },
    {
      "cell_type": "code",
      "source": [
        "numero = 1 ; #numero tem o valor 1\n",
        "\n",
        "while numero<=5: #enquanto numero for menor ou igual a 5 o loop vai rodar\n",
        "\n",
        "  print('o numero de entrada  é %d' % numero)\n",
        "  numero = numero + 1 #numero = numero +1 =2 numero + 2 = 3 (3 <= 5 true) ; numero + 3 = 4 (4 <=5 true ) ; numero + 4 = 5 (5 <= 5 true ) ; numero + 5 = 6 (6 <= 5 false) fim loop\n",
        "\n",
        "  print('o numero de saida é %d : ' % numero);\n",
        "  print('==================X================');\n",
        "print('o numero final é %d' %numero)\n"
      ],
      "metadata": {
        "id": "1ajZfrEVyV5F"
      },
      "execution_count": null,
      "outputs": []
    },
    {
      "cell_type": "code",
      "source": [
        "qtd_vezes = 1\n",
        "while qtd_vezes < 100:\n",
        "    calculo = qtd_vezes / 100 * qtd_vezes\n",
        "    print(calculo)\n",
        "    qtd_vezes = qtd_vezes+1"
      ],
      "metadata": {
        "id": "-ij7ZRpiKZQ6"
      },
      "execution_count": null,
      "outputs": []
    },
    {
      "cell_type": "markdown",
      "source": [
        "<h2><font color= '1CC3E2'>for<font>\n",
        "\n",
        "---\n",
        " <p> Em Python, o for é uma estrutura de controle utilizada para iterar sobre elementos de uma sequência, como listas, tuplas, strings, dicionários, conjuntos, entre outros tipos de dados iteráveis. O for é frequentemente utilizado quando você precisa executar um bloco de código repetidamente para cada item na sequência.\n"
      ],
      "metadata": {
        "id": "XiNTDXxY-3Jh"
      }
    },
    {
      "cell_type": "code",
      "source": [
        "convidados = [\n",
        "    'wesley',\n",
        "    'jorge',\n",
        "    'kelvin',\n",
        "    'jardel',\n",
        "    'guilherme'\n",
        "\n",
        "]\n",
        "\n",
        "for i in convidados:\n",
        "  print(i);"
      ],
      "metadata": {
        "id": "-5c7rPL5-9w_"
      },
      "execution_count": null,
      "outputs": []
    },
    {
      "cell_type": "code",
      "source": [
        "for i in range(100): #contagem de 0 a 9\n",
        "  print(i)"
      ],
      "metadata": {
        "id": "79XHrcWyBr5b"
      },
      "execution_count": null,
      "outputs": []
    },
    {
      "cell_type": "code",
      "source": [
        "numeros = [1 , 2 , 3, 4 ,5 ,6 ,7 ,8 ,9 , 10]\n",
        "\n",
        "for i in numeros:\n",
        "  print(i * 2 ) #o dobro dos numeros da lista"
      ],
      "metadata": {
        "id": "lIlZEfq7CZs8"
      },
      "execution_count": null,
      "outputs": []
    },
    {
      "cell_type": "code",
      "source": [
        "import random\n",
        "\n",
        "\n",
        "numeros_aleatorios = [random.randint(1, 100) for _ in range(10)]\n",
        "\n",
        "print(\"Números aleatórios:\", numeros_aleatorios)\n"
      ],
      "metadata": {
        "colab": {
          "base_uri": "https://localhost:8080/"
        },
        "id": "uGwSn8giMP7E",
        "outputId": "a15e3a76-3ed2-4546-9c31-e130a14aaad3"
      },
      "execution_count": null,
      "outputs": [
        {
          "output_type": "stream",
          "name": "stdout",
          "text": [
            "Números aleatórios: [61, 55, 42, 51, 34, 51, 64, 50, 22, 69]\n"
          ]
        }
      ]
    },
    {
      "cell_type": "markdown",
      "source": [
        "\n",
        "\n"
      ],
      "metadata": {
        "id": "f3ajKROfNdwg"
      }
    },
    {
      "cell_type": "code",
      "source": [
        "lista1 = []\n",
        "numero = 1\n",
        "while numero <= 10:\n",
        "      lista1.append(numero)\n",
        "      numero = numero + 1\n",
        "      print(lista1)\n"
      ],
      "metadata": {
        "id": "5_3dfuS3OZ-U"
      },
      "execution_count": null,
      "outputs": []
    },
    {
      "cell_type": "code",
      "source": [
        "print(lista_grande)"
      ],
      "metadata": {
        "id": "dsQVj--rQSxj"
      },
      "execution_count": null,
      "outputs": []
    },
    {
      "cell_type": "markdown",
      "source": [
        "###<H1>FUNÇÕES\n",
        "\n",
        "---\n",
        "\n",
        "<p>Funções em Python são blocos de código reutilizáveis que realizam uma tarefa específica. Elas ajudam a organizar o código, tornando-o mais legível e modular. As funções podem aceitar zero ou mais argumentos como entrada e podem retornar um valor de saída. Elas são definidas usando a palavra-chave def, seguida pelo nome da função e, opcionalmente, uma lista de parâmetros entre parênteses. O corpo da função é indentado e contém as instruções que serão executadas quando a função é chamada. Para chamar uma função, você simplesmente usa seu nome seguido pelos argumentos necessários entre parênteses. As funções também podem ter valores de retorno, especificados usando a palavra-chave return, que envia de volta um resultado para o local onde a função foi chamada."
      ],
      "metadata": {
        "id": "RZARAY1GWocx"
      }
    },
    {
      "cell_type": "code",
      "source": [
        "def soma():\n",
        "  valor1 = 10\n",
        "  valor2 = 10\n",
        "\n",
        "  resultado = valor1 + valor2\n",
        "  print(resultado)"
      ],
      "metadata": {
        "id": "f_hpPq2zYTCv"
      },
      "execution_count": null,
      "outputs": []
    },
    {
      "cell_type": "code",
      "source": [
        "soma()"
      ],
      "metadata": {
        "colab": {
          "base_uri": "https://localhost:8080/"
        },
        "id": "QpZntPUUaaeD",
        "outputId": "ff46f23d-8541-404d-fe08-1dcf15aeeb1f"
      },
      "execution_count": null,
      "outputs": [
        {
          "output_type": "stream",
          "name": "stdout",
          "text": [
            "20\n"
          ]
        }
      ]
    },
    {
      "cell_type": "code",
      "source": [
        "def soma1(valor1, valor2):\n",
        "    resultado = valor1 + valor2\n",
        "    return resultado\n",
        "\n",
        "def dividir(numerador , denominador):\n",
        "    resultado = numerador / denominador\n",
        "    return resultado\n",
        "\n",
        "resultado_da_soma = soma1(10.1, 10.5)\n",
        "print(resultado_da_soma)\n",
        "\n",
        "resultado_Da_divisao =dividir(10 , 2)\n",
        "print(resultado_Da_divisao)"
      ],
      "metadata": {
        "id": "IXml8mGSgA3s"
      },
      "execution_count": null,
      "outputs": []
    },
    {
      "cell_type": "code",
      "source": [
        "dividir(3 , 4)"
      ],
      "metadata": {
        "id": "Cmym2COhgG-k"
      },
      "execution_count": null,
      "outputs": []
    },
    {
      "cell_type": "markdown",
      "source": [
        "1. faça uma função de ; soma , divisao , multiplicação , divisao"
      ],
      "metadata": {
        "id": "uTdWT4xNBFT9"
      }
    },
    {
      "cell_type": "code",
      "source": [
        "def soma(soma1 , soma2):\n",
        "  res_soma = soma1 + soma2\n",
        "  return res_soma\n",
        "\n",
        "def dividir(numerador , denominador):\n",
        "    resultado = numerador / denominador\n",
        "    return resultado\n",
        "\n",
        "def multi(num1 , num2):\n",
        "  res_multi = num1 * num2 ;\n",
        "  return res_multi;\n",
        "\n",
        "def menos(menos1 , menos2):\n",
        "    res_menos = menos1 - menos2;\n",
        "    return res_menos;\n",
        "\n",
        "\n",
        "res_soma = soma(10, 5)\n",
        "resultado = dividir(10, 2)\n",
        "res_multi = multi(5, 4)\n",
        "res_menos = menos(10, 3)\n",
        "\n",
        "print(res_soma , resultado  , res_multi , res_menos)\n"
      ],
      "metadata": {
        "id": "KFd4liJZBUCV",
        "colab": {
          "base_uri": "https://localhost:8080/"
        },
        "outputId": "c52e59ad-02f8-413e-e5bf-219aed67294f"
      },
      "execution_count": 11,
      "outputs": [
        {
          "output_type": "stream",
          "name": "stdout",
          "text": [
            "15 5.0 20 7\n"
          ]
        }
      ]
    },
    {
      "cell_type": "code",
      "source": [
        "menos(2 , 5)"
      ],
      "metadata": {
        "id": "zx3mFPJkSr4o",
        "colab": {
          "base_uri": "https://localhost:8080/"
        },
        "outputId": "9b30e672-227d-4e53-bfb3-a166c2358d2d"
      },
      "execution_count": 12,
      "outputs": [
        {
          "output_type": "execute_result",
          "data": {
            "text/plain": [
              "-3"
            ]
          },
          "metadata": {},
          "execution_count": 12
        }
      ]
    },
    {
      "cell_type": "code",
      "source": [
        "# Função para calcular a quantidade de elementos em uma lista\n",
        "def qtd_lista(lista):\n",
        "    qtd = len(lista)\n",
        "    return qtd\n",
        "\n",
        "# Função para verificar se numero1 é menor ou igual a numero2\n",
        "def verificacao(numero1, numero2):\n",
        "    return numero1 <= numero2\n",
        "\n",
        "# Função para remover convidados da lista\n",
        "def remover_da_lista(lista, qtd_remover):\n",
        "    print(\"Removendo\", qtd_remover, \"convidados da lista...\")\n",
        "    for _ in range(qtd_remover):\n",
        "        if lista:  # Verifica se há elementos na lista antes de tentar remover\n",
        "            del lista[0]  # Remove o primeiro elemento da lista\n",
        "\n",
        "# Lista de convidados\n",
        "convidados = [\n",
        "    'wesley',\n",
        "    'kelvin',\n",
        "    'jorge',\n",
        "    'guilherme',\n",
        "    'jardel',\n",
        "    'nayara',\n",
        "    'joyce',\n",
        "    'vivian',\n",
        "    'natalia',\n",
        "    'mariana',\n",
        "]\n",
        "\n",
        "# Calcula a quantidade de convidados na lista\n",
        "quantidade = qtd_lista(convidados)\n",
        "print(\"Quantidade de convidados:\", quantidade)\n",
        "\n",
        "# Capacidade máxima do salão\n",
        "capacidade_salao = 9\n",
        "\n",
        "# Verifica se a quantidade de convidados excede a capacidade do salão\n",
        "capacidade_respeitada = verificacao(quantidade, capacidade_salao)\n",
        "print(\"Capacidade do salão respeitada:\", capacidade_respeitada)\n",
        "\n",
        "# Se a capacidade do salão for excedida, calcula a quantidade de convidados a serem removidos e os remove\n",
        "if not capacidade_respeitada:\n",
        "    qtd_remover = quantidade - capacidade_salao  # Calcula a quantidade de convidados que precisam ser removidos\n",
        "    print('A quantidade a ser removida é', qtd_remover)\n",
        "    remover_da_lista(convidados, qtd_remover)\n",
        "    print(\"Lista de convidados após remoção:\", convidados)\n",
        "else:\n",
        "    print(\"A capacidade do salão não foi excedida. Nenhum convidado será removido.\")\n"
      ],
      "metadata": {
        "colab": {
          "base_uri": "https://localhost:8080/"
        },
        "id": "3hzPZTq9Pi-b",
        "outputId": "fe33f2ca-952f-47ec-dab6-900f3a56953a"
      },
      "execution_count": 14,
      "outputs": [
        {
          "output_type": "stream",
          "name": "stdout",
          "text": [
            "Quantidade de convidados: 10\n",
            "Capacidade do salão respeitada: False\n",
            "A quantidade a ser removida é 1\n",
            "Removendo 1 convidados da lista...\n",
            "Lista de convidados após remoção: ['wesley', 'kelvin', 'jorge', 'jardel', 'nayara', 'joyce', 'vivian', 'natalia', 'mariana']\n"
          ]
        }
      ]
    },
    {
      "cell_type": "code",
      "source": [
        "convidados"
      ],
      "metadata": {
        "id": "B8Biyj3Qda--"
      },
      "execution_count": null,
      "outputs": []
    },
    {
      "cell_type": "markdown",
      "source": [
        "**com INPUT**"
      ],
      "metadata": {
        "id": "BL5NeLpRhRYK"
      }
    },
    {
      "cell_type": "code",
      "source": [
        "# Função para calcular a quantidade de elementos em uma lista\n",
        "def qtd_lista(lista):\n",
        "    qtd = len(lista)\n",
        "    return qtd\n",
        "\n",
        "# Função para verificar se numero1 é menor ou igual a numero2\n",
        "def verificacao(numero1, numero2):\n",
        "    return numero1 <= numero2\n",
        "\n",
        "# Função para remover convidados da lista\n",
        "def remover_da_lista(lista, qtd_remover):\n",
        "    print(\"Removendo\", qtd_remover, \"convidados da lista...\")\n",
        "    for _ in range(qtd_remover):\n",
        "        if lista:  # Verifica se há elementos na lista antes de tentar remover\n",
        "            del lista[0]  # Remove o primeiro elemento da lista\n",
        "\n",
        "# Lista de convidados\n",
        "convidados = [\n",
        "    'wesley',\n",
        "    'kelvin',\n",
        "    'jorge',\n",
        "    'guilherme',\n",
        "    'jardel',\n",
        "    'nayara',\n",
        "    'joyce',\n",
        "    'vivian',\n",
        "    'natalia',\n",
        "    'mariana',\n",
        "]\n",
        "\n",
        "# Calcula a quantidade de convidados na lista\n",
        "quantidade = qtd_lista(convidados)\n",
        "print(\"Quantidade de convidados:\", quantidade)\n",
        "\n",
        "# Input para obter a capacidade máxima do salão\n",
        "capacidade_salao = int(input(\"Digite a capacidade máxima do salão: \"))\n",
        "\n",
        "# Verifica se a quantidade de convidados excede a capacidade do salão\n",
        "capacidade_respeitada = verificacao(quantidade, capacidade_salao)\n",
        "print(\"Capacidade do salão respeitada:\", capacidade_respeitada)\n",
        "\n",
        "# Se a capacidade do salão for excedida, calcula a quantidade de convidados a serem removidos e os remove\n",
        "if not capacidade_respeitada:\n",
        "    qtd_remover = quantidade - capacidade_salao  # Calcula a quantidade de convidados que precisam ser removidos\n",
        "    print('A quantidade a ser removida é', qtd_remover)\n",
        "    remover_da_lista(convidados, qtd_remover)\n",
        "    print(\"Lista de convidados após remoção:\", convidados)\n",
        "else:\n",
        "    print(\"A capacidade do salão não foi excedida. Nenhum convidado será removido.\")\n"
      ],
      "metadata": {
        "id": "BHs_UEoghH0J"
      },
      "execution_count": null,
      "outputs": []
    }
  ]
}